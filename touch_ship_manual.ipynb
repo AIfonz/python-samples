{
  "nbformat": 4,
  "nbformat_minor": 0,
  "metadata": {
    "colab": {
      "provenance": [],
      "collapsed_sections": [],
      "authorship_tag": "ABX9TyO1PXma2Lem63OQ6BoX+Q6T",
      "include_colab_link": true
    },
    "kernelspec": {
      "name": "python3",
      "display_name": "Python 3"
    },
    "language_info": {
      "name": "python"
    }
  },
  "cells": [
    {
      "cell_type": "markdown",
      "metadata": {
        "id": "view-in-github",
        "colab_type": "text"
      },
      "source": [
        "<a href=\"https://colab.research.google.com/github/AIfonz/test3/blob/main/touch_ship_manual.ipynb\" target=\"_parent\"><img src=\"https://colab.research.google.com/assets/colab-badge.svg\" alt=\"Open In Colab\"/></a>"
      ]
    },
    {
      "cell_type": "markdown",
      "source": [],
      "metadata": {
        "id": "n15vsIyZsWRB"
      }
    },
    {
      "cell_type": "markdown",
      "source": [
        "# Ship's Instruction Manual"
      ],
      "metadata": {
        "id": "Z9juStDQsbVs"
      }
    },
    {
      "cell_type": "code",
      "source": [
        "pip install ipywidgets"
      ],
      "metadata": {
        "id": "eS9SjhfZs9hd"
      },
      "execution_count": null,
      "outputs": []
    },
    {
      "cell_type": "code",
      "source": [
        "import ipywidgets as widgets\n",
        "\n",
        "ignition = widgets.ToggleButton(\n",
        "    value=False,\n",
        "    description='Start Engine',\n",
        "    button_style='success',\n",
        "    tooltip='Engage your Engine',\n",
        "    icon='rocket'\n",
        ")\n",
        "\n",
        "output = widgets.Output()\n",
        "\n",
        "display(ignition, output)\n",
        "\n",
        "def on_value_change(change):\n",
        "    with output:\n",
        "        if change['new'] == True:\n",
        "            print(\"engine started!\")\n",
        "        else:   \n",
        "            print(\"engine stopped\")\n",
        "\n",
        "ignition.observe(on_value_change, names='value')"
      ],
      "metadata": {
        "id": "9dwbzrKptT--"
      },
      "execution_count": null,
      "outputs": []
    },
    {
      "cell_type": "code",
      "source": [
        "## Oxygen levels\n",
        "\n",
        "Display ten minutes of oxygen levels in your ship."
      ],
      "metadata": {
        "id": "oucsVKFXuFZb"
      },
      "execution_count": null,
      "outputs": []
    },
    {
      "cell_type": "code",
      "source": [
        "import numpy as np\n",
        "import matplotlib.pyplot as plt\n",
        "data = np.random.default_rng(12345)\n",
        "oxy_nums = data.integers(low=0, high=10, size=10)\n",
        "\n",
        "plt.bar(range(len(oxy_nums)), oxy_nums)\n",
        "plt.show()"
      ],
      "metadata": {
        "id": "6_GHi3KiuREn"
      },
      "execution_count": null,
      "outputs": []
    },
    {
      "cell_type": "markdown",
      "source": [
        "## Ship's velocity\n",
        "\n",
        "Show the seconds needed to get from 0 to 60 meters per second, given the ship's acceleration in meters per second."
      ],
      "metadata": {
        "id": "D2O6A7WkxEDW"
      }
    },
    {
      "cell_type": "code",
      "source": [],
      "metadata": {
        "id": "IHEXmi4SBoO2"
      },
      "execution_count": null,
      "outputs": []
    },
    {
      "cell_type": "code",
      "source": [
        "endVelocity = 60\n",
        "startVelocity = 0\n",
        "acceleration = 9.8\n",
        "\n",
        "time = (endVelocity - startVelocity) / acceleration\n",
        "print(\"Time to reach desired velocity = \", time)"
      ],
      "metadata": {
        "id": "TV3lEj-kxH1z"
      },
      "execution_count": null,
      "outputs": []
    },
    {
      "cell_type": "code",
      "source": [
        "# program.py\n",
        "sum = 1 + 2\n",
        "print(sum)"
      ],
      "metadata": {
        "id": "F96KLB4aBqNt"
      },
      "execution_count": null,
      "outputs": []
    },
    {
      "cell_type": "code",
      "source": [
        "python3 program.py"
      ],
      "metadata": {
        "id": "tbhadybLB5j5"
      },
      "execution_count": null,
      "outputs": []
    },
    {
      "cell_type": "code",
      "source": [
        "print(\"show this in the console\")"
      ],
      "metadata": {
        "id": "eLYWii8LCGkL"
      },
      "execution_count": null,
      "outputs": []
    },
    {
      "cell_type": "code",
      "source": [
        "sum = 1 + 2 # 3\n",
        "product = sum * 2\n",
        "print(product)"
      ],
      "metadata": {
        "id": "lE5e6jGNCa-k"
      },
      "execution_count": null,
      "outputs": []
    },
    {
      "cell_type": "code",
      "source": [
        "planets_in_solar_system = 8 # int, pluto used to be the 9th planet, but is too small\n",
        "distance_to_alpha_centauri = 4.367 # float, lightyears\n",
        "can_liftoff = True\n",
        "shuttle_landed_on_the_moon = \"Apollo 11\" #string"
      ],
      "metadata": {
        "id": "LcGTE0NqC212"
      },
      "execution_count": null,
      "outputs": []
    },
    {
      "cell_type": "code",
      "source": [
        "type(distance_to_alpha_centauri) ## <class 'float'>\n"
      ],
      "metadata": {
        "id": "V9xlm8R5DATP"
      },
      "execution_count": null,
      "outputs": []
    },
    {
      "cell_type": "code",
      "source": [
        "left_side = 10\n",
        "right_side = 5\n",
        "left_side / right_side # 2"
      ],
      "metadata": {
        "id": "6aaOe8B3DJdU"
      },
      "execution_count": null,
      "outputs": []
    },
    {
      "cell_type": "code",
      "source": [
        "from datetime import date"
      ],
      "metadata": {
        "id": "QrkZG967DZap"
      },
      "execution_count": null,
      "outputs": []
    },
    {
      "cell_type": "code",
      "source": [
        "print(date.today())\n"
      ],
      "metadata": {
        "id": "xktIz3E_Dcn2"
      },
      "execution_count": null,
      "outputs": []
    },
    {
      "cell_type": "code",
      "source": [
        "print(\"Today's date is: \" + str(date.today()))"
      ],
      "metadata": {
        "id": "s5kyPifbDvYl"
      },
      "execution_count": null,
      "outputs": []
    },
    {
      "cell_type": "code",
      "source": [
        "print(\"Welcome to the greeter program\")\n",
        "name = input(\"Enter your name \")\n",
        "print(\"Greetings: \" + name)"
      ],
      "metadata": {
        "id": "rlewfCA5Fzrf"
      },
      "execution_count": null,
      "outputs": []
    },
    {
      "cell_type": "code",
      "source": [
        "print(\"calculator program\")\n",
        "first_number = input(\"first number: \")\n",
        "second_number = input(\"second number: \")\n",
        "print(int(first_number) + int(second_number))"
      ],
      "metadata": {
        "colab": {
          "base_uri": "https://localhost:8080/"
        },
        "id": "Uh6yebISGUfy",
        "outputId": "d2121378-31aa-478f-eaa0-f7579fdde3fc"
      },
      "execution_count": null,
      "outputs": [
        {
          "output_type": "stream",
          "name": "stdout",
          "text": [
            "calculator program\n",
            "first number: 5\n",
            "second number: 3\n",
            "8\n"
          ]
        }
      ]
    },
    {
      "cell_type": "code",
      "source": [
        "parsecs_input = input(\"Input number of parsecs:\")\n",
        "parsecs = int(parsecs_input)\n",
        "lightyears = 3.26156 * parsecs\n",
        "\n",
        "print(parsecs_input + \" parsecs is \" + str(lightyears) + \" lightyears\")"
      ],
      "metadata": {
        "colab": {
          "base_uri": "https://localhost:8080/"
        },
        "id": "Llc1w48CI-gO",
        "outputId": "adfdef8e-5f8c-4001-acc0-3290f0e336de"
      },
      "execution_count": null,
      "outputs": [
        {
          "output_type": "stream",
          "name": "stdout",
          "text": [
            "Input number of parsecs:11\n",
            "11 parsecs is 35.877159999999996 lightyears\n"
          ]
        }
      ]
    },
    {
      "cell_type": "code",
      "source": [
        "from IPython.display import clear_output\n",
        "board = ['#',' ',' ',' ',' ',' ',' ',' ',' ',' '] #To create an empty board\n",
        "\n",
        "def display(board):  #here comes the function\n",
        "    clear_output()\n",
        "    print('  |   | ')\n",
        "    print(board[1]+' | '+board[2]+' | '+board[3])\n",
        "    print('  |   | ')\n",
        "    print(\"----------\")\n",
        "    print('  |   | ')\n",
        "    print(board[4]+' | '+board[5]+' | '+board[6])\n",
        "    print('  |   | ')\n",
        "    print(\"----------\")\n",
        "    print('  |   | ')\n",
        "    print(board[7]+' | '+board[8]+' | '+board[9])\n",
        "    print('  |   | ') \n",
        "\n",
        "def player_input():\n",
        "    marker = ''\n",
        "    player1 = ''\n",
        "    computer = ''\n",
        "    while not (marker == 'X' or marker == 'O'):\n",
        "        marker = input(\"Please select a marker 'x' or 'o': \").upper()\n",
        "        if (marker != 'X') or (marker != 'O'):\n",
        "            clear_output()\n",
        "        if marker == 'X':\n",
        "            print(f\"You are '{marker}' '\")\n",
        "            print(\"Computer is 'O'\")\n",
        "            player1,computer = 'X','O'\n",
        "        elif marker == 'O':\n",
        "            print(f\"You are '{marker}' '\")\n",
        "            print(\"Computer is 'X'\")\n",
        "            player1,computer = 'O','X'\n",
        "    return player1,computer\n",
        "\n",
        "def display_position_board(): #to show user where to place a marker\n",
        "    print(\"Please select a position to place your marker\")\n",
        "    print('  |   | ')\n",
        "    print(f\"{1} | {2} | {3}\")\n",
        "    print('  |   | ')\n",
        "    print(\"----------\")\n",
        "    print('  |   | ')\n",
        "    print(f\"{4} | {5} | {6}\")\n",
        "    print('  |   | ')\n",
        "    print(\"----------\")\n",
        "    print('  |   | ')\n",
        "    print(f\"{7} | {8} | {9}\")\n",
        "    print('  |   | ')\n",
        "\n",
        "def position_chioce(): #a function that collects the users position\n",
        "    chioce = ''\n",
        "    while chioce not in range(1,10):\n",
        "        chioce = int(input(\"Select a position to place your marker(1-9): \"))\n",
        "        if chioce not in range(1,10):\n",
        "            clear_output()\n",
        "    return chioce\n",
        "\n",
        "def placing_input(board,position,marker): #to place a marker on the selected position\n",
        "    board[position] = marker\n",
        "\n",
        "def win_check(board,mark):\n",
        "\n",
        "    return ((board[7] == mark and board[8] == mark and board[9] == mark) or # across the bottom\n",
        "    (board[4] == mark and board[5] == mark and board[6] == mark) or # across the middle\n",
        "    (board[1] == mark and board[2] == mark and board[3] == mark) or # across the top\n",
        "    (board[7] == mark and board[4] == mark and board[1] == mark) or # down the left side\n",
        "    (board[8] == mark and board[5] == mark and board[2] == mark) or # down the middle\n",
        "    (board[9] == mark and board[6] == mark and board[3] == mark) or # down the right side\n",
        "    (board[7] == mark and board[5] == mark and board[3] == mark) or # diagonal\n",
        "    (board[9] == mark and board[5] == mark and board[1] == mark)) # diagonal\n",
        "\n",
        "import random   #imports the random library\n",
        "\n",
        "def whose_turn():\n",
        "    r = random.randint(1,2) #randomly selects who goes first\n",
        "    if r == 1:\n",
        "        return \"player1\"  #player1 goes first\n",
        "    else:\n",
        "        return \"computer\" #computer goes first\n",
        "\n",
        "def empty_space(position,board):\n",
        "    return board[position] == ' '\n",
        "\n",
        "def full_board_check(board): #this checks if the board is full\n",
        "    for i in range(1,10):\n",
        "        if board[i] == ' ':\n",
        "            return False\n",
        "    return True\n",
        "\n",
        "import random   #imports the random library\n",
        "\n",
        "\n",
        "def computer():  #this function randomly generates numbers between 1 to 9\n",
        "    return random.randint(1,9)\n",
        "\n",
        "print(\"Welcome to my Tic Tac Toe Game\")\n",
        "\n",
        "play = True\n",
        "\n",
        "while play:\n",
        "    answer = ' '\n",
        "\n",
        "    board = ['#', ' ', ' ', ' ', ' ', ' ', ' ', ' ', ' ', ' ']\n",
        "\n",
        "    player1_marker, computer_marker = player_input()\n",
        "\n",
        "    display_position_board()\n",
        "\n",
        "    turn = whose_turn()\n",
        "\n",
        "    game_on = True\n",
        "\n",
        "    while game_on:\n",
        "        if turn == \"player1\":\n",
        "            position = position_chioce()\n",
        "            if empty_space(position, board) == True:\n",
        "                placing_input(board, position, player1_marker)\n",
        "                display(board)\n",
        "                turn = \"computer\"\n",
        "\n",
        "                if win_check(board, player1_marker):\n",
        "                    display(board)\n",
        "                    print(\"Congratulations you have won\")\n",
        "                    answer = input(\"Do you want to go another round(y/n):\")\n",
        "                    if answer == 'n':\n",
        "                        game_on = False\n",
        "                        play = False\n",
        "                    else:\n",
        "                        game_on = False\n",
        "                        play = True\n",
        "\n",
        "\n",
        "                else:\n",
        "                    if full_board_check(board):\n",
        "                        display(board)\n",
        "                        print(\"The game is a draw\")\n",
        "                        answer = input(\"Do you want to go another round(y/n):\")\n",
        "                        if answer == 'n':\n",
        "                            game_on = False\n",
        "                            play = False\n",
        "                        else:\n",
        "                            game_on = False\n",
        "                            play = True\n",
        "                    else:\n",
        "                        turn = \"computer\"\n",
        "\n",
        "            elif empty_space(position, board) == False:\n",
        "                clear_output()\n",
        "                display(board)\n",
        "                print('Please select a valid position')\n",
        "                turn = \"player1\"\n",
        "                continue\n",
        "\n",
        "\n",
        "        else:\n",
        "            if turn == \"computer\":\n",
        "                position = computer()\n",
        "                if empty_space(position, board) == True:\n",
        "                    placing_input(board, position, computer_marker)\n",
        "                    display(board)\n",
        "                    turn = \"player1\"\n",
        "\n",
        "                    if win_check(board, computer_marker):\n",
        "                        display(board)\n",
        "                        print(\"Sorry you loose\")\n",
        "                        answer = input(\"Do you want to go another round(y/n):\")\n",
        "                        if answer == 'n':\n",
        "                            game_on = False\n",
        "                            play = False\n",
        "                        else:\n",
        "                            game_on = False\n",
        "                            play = True\n",
        "\n",
        "                    elif full_board_check(board):\n",
        "                        display(board)\n",
        "                        print(\"We have a draw\")\n",
        "                        answer = input(\"Do you want to go another round(y/n):\")\n",
        "                        if answer == 'n':\n",
        "                            game_on = False\n",
        "                            play = False\n",
        "                        else:\n",
        "                            game_on = False\n",
        "                            play = True\n",
        "                    turn = \"player1\"\n",
        "\n",
        "print(\"Thanks for playing\")\n"
      ],
      "metadata": {
        "colab": {
          "base_uri": "https://localhost:8080/",
          "height": 398
        },
        "id": "uVMs-5Z3K3SP",
        "outputId": "8ff69a55-0015-4b2d-aa16-1459b477dae6"
      },
      "execution_count": null,
      "outputs": [
        {
          "output_type": "stream",
          "name": "stdout",
          "text": [
            "Welcome to my Tic Tac Toe Game\n"
          ]
        },
        {
          "output_type": "error",
          "ename": "KeyboardInterrupt",
          "evalue": "ignored",
          "traceback": [
            "\u001b[0;31m---------------------------------------------------------------------------\u001b[0m",
            "\u001b[0;31mKeyboardInterrupt\u001b[0m                         Traceback (most recent call last)",
            "\u001b[0;32m<ipython-input-30-b79fd712578c>\u001b[0m in \u001b[0;36m<module>\u001b[0;34m\u001b[0m\n\u001b[1;32m    103\u001b[0m     \u001b[0mboard\u001b[0m \u001b[0;34m=\u001b[0m \u001b[0;34m[\u001b[0m\u001b[0;34m'#'\u001b[0m\u001b[0;34m,\u001b[0m \u001b[0;34m' '\u001b[0m\u001b[0;34m,\u001b[0m \u001b[0;34m' '\u001b[0m\u001b[0;34m,\u001b[0m \u001b[0;34m' '\u001b[0m\u001b[0;34m,\u001b[0m \u001b[0;34m' '\u001b[0m\u001b[0;34m,\u001b[0m \u001b[0;34m' '\u001b[0m\u001b[0;34m,\u001b[0m \u001b[0;34m' '\u001b[0m\u001b[0;34m,\u001b[0m \u001b[0;34m' '\u001b[0m\u001b[0;34m,\u001b[0m \u001b[0;34m' '\u001b[0m\u001b[0;34m,\u001b[0m \u001b[0;34m' '\u001b[0m\u001b[0;34m]\u001b[0m\u001b[0;34m\u001b[0m\u001b[0;34m\u001b[0m\u001b[0m\n\u001b[1;32m    104\u001b[0m \u001b[0;34m\u001b[0m\u001b[0m\n\u001b[0;32m--> 105\u001b[0;31m     \u001b[0mplayer1_marker\u001b[0m\u001b[0;34m,\u001b[0m \u001b[0mcomputer_marker\u001b[0m \u001b[0;34m=\u001b[0m \u001b[0mplayer_input\u001b[0m\u001b[0;34m(\u001b[0m\u001b[0;34m)\u001b[0m\u001b[0;34m\u001b[0m\u001b[0;34m\u001b[0m\u001b[0m\n\u001b[0m\u001b[1;32m    106\u001b[0m \u001b[0;34m\u001b[0m\u001b[0m\n\u001b[1;32m    107\u001b[0m     \u001b[0mdisplay_position_board\u001b[0m\u001b[0;34m(\u001b[0m\u001b[0;34m)\u001b[0m\u001b[0;34m\u001b[0m\u001b[0;34m\u001b[0m\u001b[0m\n",
            "\u001b[0;32m<ipython-input-30-b79fd712578c>\u001b[0m in \u001b[0;36mplayer_input\u001b[0;34m()\u001b[0m\n\u001b[1;32m     21\u001b[0m     \u001b[0mcomputer\u001b[0m \u001b[0;34m=\u001b[0m \u001b[0;34m''\u001b[0m\u001b[0;34m\u001b[0m\u001b[0;34m\u001b[0m\u001b[0m\n\u001b[1;32m     22\u001b[0m     \u001b[0;32mwhile\u001b[0m \u001b[0;32mnot\u001b[0m \u001b[0;34m(\u001b[0m\u001b[0mmarker\u001b[0m \u001b[0;34m==\u001b[0m \u001b[0;34m'X'\u001b[0m \u001b[0;32mor\u001b[0m \u001b[0mmarker\u001b[0m \u001b[0;34m==\u001b[0m \u001b[0;34m'O'\u001b[0m\u001b[0;34m)\u001b[0m\u001b[0;34m:\u001b[0m\u001b[0;34m\u001b[0m\u001b[0;34m\u001b[0m\u001b[0m\n\u001b[0;32m---> 23\u001b[0;31m         \u001b[0mmarker\u001b[0m \u001b[0;34m=\u001b[0m \u001b[0minput\u001b[0m\u001b[0;34m(\u001b[0m\u001b[0;34m\"Please select a marker 'x' or 'o': \"\u001b[0m\u001b[0;34m)\u001b[0m\u001b[0;34m.\u001b[0m\u001b[0mupper\u001b[0m\u001b[0;34m(\u001b[0m\u001b[0;34m)\u001b[0m\u001b[0;34m\u001b[0m\u001b[0;34m\u001b[0m\u001b[0m\n\u001b[0m\u001b[1;32m     24\u001b[0m         \u001b[0;32mif\u001b[0m \u001b[0;34m(\u001b[0m\u001b[0mmarker\u001b[0m \u001b[0;34m!=\u001b[0m \u001b[0;34m'X'\u001b[0m\u001b[0;34m)\u001b[0m \u001b[0;32mor\u001b[0m \u001b[0;34m(\u001b[0m\u001b[0mmarker\u001b[0m \u001b[0;34m!=\u001b[0m \u001b[0;34m'O'\u001b[0m\u001b[0;34m)\u001b[0m\u001b[0;34m:\u001b[0m\u001b[0;34m\u001b[0m\u001b[0;34m\u001b[0m\u001b[0m\n\u001b[1;32m     25\u001b[0m             \u001b[0mclear_output\u001b[0m\u001b[0;34m(\u001b[0m\u001b[0;34m)\u001b[0m\u001b[0;34m\u001b[0m\u001b[0;34m\u001b[0m\u001b[0m\n",
            "\u001b[0;32m/usr/local/lib/python3.7/dist-packages/ipykernel/kernelbase.py\u001b[0m in \u001b[0;36mraw_input\u001b[0;34m(self, prompt)\u001b[0m\n\u001b[1;32m    861\u001b[0m             \u001b[0mself\u001b[0m\u001b[0;34m.\u001b[0m\u001b[0m_parent_ident\u001b[0m\u001b[0;34m,\u001b[0m\u001b[0;34m\u001b[0m\u001b[0;34m\u001b[0m\u001b[0m\n\u001b[1;32m    862\u001b[0m             \u001b[0mself\u001b[0m\u001b[0;34m.\u001b[0m\u001b[0m_parent_header\u001b[0m\u001b[0;34m,\u001b[0m\u001b[0;34m\u001b[0m\u001b[0;34m\u001b[0m\u001b[0m\n\u001b[0;32m--> 863\u001b[0;31m             \u001b[0mpassword\u001b[0m\u001b[0;34m=\u001b[0m\u001b[0;32mFalse\u001b[0m\u001b[0;34m,\u001b[0m\u001b[0;34m\u001b[0m\u001b[0;34m\u001b[0m\u001b[0m\n\u001b[0m\u001b[1;32m    864\u001b[0m         )\n\u001b[1;32m    865\u001b[0m \u001b[0;34m\u001b[0m\u001b[0m\n",
            "\u001b[0;32m/usr/local/lib/python3.7/dist-packages/ipykernel/kernelbase.py\u001b[0m in \u001b[0;36m_input_request\u001b[0;34m(self, prompt, ident, parent, password)\u001b[0m\n\u001b[1;32m    902\u001b[0m             \u001b[0;32mexcept\u001b[0m \u001b[0mKeyboardInterrupt\u001b[0m\u001b[0;34m:\u001b[0m\u001b[0;34m\u001b[0m\u001b[0;34m\u001b[0m\u001b[0m\n\u001b[1;32m    903\u001b[0m                 \u001b[0;31m# re-raise KeyboardInterrupt, to truncate traceback\u001b[0m\u001b[0;34m\u001b[0m\u001b[0;34m\u001b[0m\u001b[0;34m\u001b[0m\u001b[0m\n\u001b[0;32m--> 904\u001b[0;31m                 \u001b[0;32mraise\u001b[0m \u001b[0mKeyboardInterrupt\u001b[0m\u001b[0;34m(\u001b[0m\u001b[0;34m\"Interrupted by user\"\u001b[0m\u001b[0;34m)\u001b[0m \u001b[0;32mfrom\u001b[0m \u001b[0;32mNone\u001b[0m\u001b[0;34m\u001b[0m\u001b[0;34m\u001b[0m\u001b[0m\n\u001b[0m\u001b[1;32m    905\u001b[0m             \u001b[0;32mexcept\u001b[0m \u001b[0mException\u001b[0m \u001b[0;32mas\u001b[0m \u001b[0me\u001b[0m\u001b[0;34m:\u001b[0m\u001b[0;34m\u001b[0m\u001b[0;34m\u001b[0m\u001b[0m\n\u001b[1;32m    906\u001b[0m                 \u001b[0mself\u001b[0m\u001b[0;34m.\u001b[0m\u001b[0mlog\u001b[0m\u001b[0;34m.\u001b[0m\u001b[0mwarning\u001b[0m\u001b[0;34m(\u001b[0m\u001b[0;34m\"Invalid Message:\"\u001b[0m\u001b[0;34m,\u001b[0m \u001b[0mexc_info\u001b[0m\u001b[0;34m=\u001b[0m\u001b[0;32mTrue\u001b[0m\u001b[0;34m)\u001b[0m\u001b[0;34m\u001b[0m\u001b[0;34m\u001b[0m\u001b[0m\n",
            "\u001b[0;31mKeyboardInterrupt\u001b[0m: Interrupted by user"
          ]
        }
      ]
    },
    {
      "cell_type": "code",
      "source": [
        "python -m venv env"
      ],
      "metadata": {
        "colab": {
          "base_uri": "https://localhost:8080/",
          "height": 131
        },
        "id": "J-IT5omLOLtu",
        "outputId": "5593ffad-6a5c-4d82-b578-940b62ceddec"
      },
      "execution_count": null,
      "outputs": [
        {
          "output_type": "error",
          "ename": "SyntaxError",
          "evalue": "ignored",
          "traceback": [
            "\u001b[0;36m  File \u001b[0;32m\"<ipython-input-31-13787e38e8c1>\"\u001b[0;36m, line \u001b[0;32m1\u001b[0m\n\u001b[0;31m    python -m venv env\u001b[0m\n\u001b[0m                 ^\u001b[0m\n\u001b[0;31mSyntaxError\u001b[0m\u001b[0;31m:\u001b[0m invalid syntax\n"
          ]
        }
      ]
    },
    {
      "cell_type": "code",
      "source": [
        "from datetime import *\n",
        "from dateutil.relativedelta import *\n",
        "now = datetime.now()\n",
        "print(now)"
      ],
      "metadata": {
        "colab": {
          "base_uri": "https://localhost:8080/"
        },
        "id": "hPPRmLqyO3Vz",
        "outputId": "85719dfa-9940-4aa4-c786-45e51f1db0c7"
      },
      "execution_count": null,
      "outputs": [
        {
          "output_type": "stream",
          "name": "stdout",
          "text": [
            "2022-09-30 11:50:07.999918\n"
          ]
        }
      ]
    },
    {
      "cell_type": "code",
      "source": [
        "from dateutil import *"
      ],
      "metadata": {
        "id": "jb7MzLJHQ-BM"
      },
      "execution_count": null,
      "outputs": []
    },
    {
      "cell_type": "code",
      "source": [
        "a = 37\n",
        "b = 55\n",
        "# test expression\n",
        "if a < b:\n",
        "    # statement to be run\n",
        "    print(b)"
      ],
      "metadata": {
        "colab": {
          "base_uri": "https://localhost:8080/"
        },
        "id": "fAr8epgBBiUU",
        "outputId": "1ad66619-444c-46df-9bcd-13ef21cfda97"
      },
      "execution_count": null,
      "outputs": [
        {
          "output_type": "stream",
          "name": "stdout",
          "text": [
            "55\n"
          ]
        }
      ]
    },
    {
      "cell_type": "code",
      "source": [
        "a = 93\n",
        "b = 93\n",
        "if a > b:\n",
        "    print(\"a is greater than b\")\n",
        "elif a < b:\n",
        "    print(\"a is less than b\")\n",
        "else: \n",
        "    print (\"a is equal to b\")"
      ],
      "metadata": {
        "colab": {
          "base_uri": "https://localhost:8080/"
        },
        "id": "boaoBmQxCze8",
        "outputId": "cfc3d3d8-2657-48b6-8d82-0f761b927002"
      },
      "execution_count": null,
      "outputs": [
        {
          "output_type": "stream",
          "name": "stdout",
          "text": [
            "a is equal to b\n"
          ]
        }
      ]
    },
    {
      "cell_type": "code",
      "source": [
        "# Enter code below\n",
        "object_size = 1\n",
        "if object_size > 5:\n",
        "    print('We need to keep an eye on this object.')\n",
        "else:\n",
        "    print('Object poses no threat.')"
      ],
      "metadata": {
        "colab": {
          "base_uri": "https://localhost:8080/"
        },
        "id": "yIy48Dc4D2RK",
        "outputId": "16490d3e-5cf6-4cb5-db5a-daca7fdf3e1f"
      },
      "execution_count": null,
      "outputs": [
        {
          "output_type": "stream",
          "name": "stdout",
          "text": [
            "Object poses no threat.\n"
          ]
        }
      ]
    },
    {
      "cell_type": "code",
      "source": [
        "object_size = 10\n",
        "proximity = 9000\n",
        "if object_size > 5 and proximity < 1000:\n",
        "  print ('Evasive maneuvers required')\n",
        "else: \n",
        "  print (\"Object poses no threat.\")"
      ],
      "metadata": {
        "colab": {
          "base_uri": "https://localhost:8080/"
        },
        "id": "-JQeH6QMEoRg",
        "outputId": "6523ae74-19c0-4773-989a-e77d3a3cbf5f"
      },
      "execution_count": null,
      "outputs": [
        {
          "output_type": "stream",
          "name": "stdout",
          "text": [
            "Object poses no threat.\n"
          ]
        }
      ]
    },
    {
      "cell_type": "code",
      "source": [
        "multiline = \"Facts about the Moon:\\nThere is no atmosphere.\\nThere is no sound.\"\n",
        "print(multiline)"
      ],
      "metadata": {
        "colab": {
          "base_uri": "https://localhost:8080/"
        },
        "id": "oAPRgjRoTk1Y",
        "outputId": "7e4ae7ea-3e6c-4410-e285-00cf4843e68b"
      },
      "execution_count": null,
      "outputs": [
        {
          "output_type": "stream",
          "name": "stdout",
          "text": [
            "Facts about the Moon:\n",
            "There is no atmosphere.\n",
            "There is no sound.\n"
          ]
        }
      ]
    },
    {
      "cell_type": "code",
      "source": [
        ">>> \"temperatures and facts about the moon\".title()"
      ],
      "metadata": {
        "colab": {
          "base_uri": "https://localhost:8080/",
          "height": 36
        },
        "id": "BPKpl_W4UQW2",
        "outputId": "dbad7453-448f-4d92-9364-ea184876775c"
      },
      "execution_count": null,
      "outputs": [
        {
          "output_type": "execute_result",
          "data": {
            "text/plain": [
              "'Temperatures And Facts About The Moon'"
            ],
            "application/vnd.google.colaboratory.intrinsic+json": {
              "type": "string"
            }
          },
          "metadata": {},
          "execution_count": 4
        }
      ]
    },
    {
      "cell_type": "code",
      "source": [
        "temperatures = \"\"\"Daylight: 260 F\n",
        "Nighttime: -280 F\"\"\"\n",
        "temperatures.split()"
      ],
      "metadata": {
        "colab": {
          "base_uri": "https://localhost:8080/"
        },
        "id": "IFk3NEUHUiZe",
        "outputId": "d3b1d7b1-60be-4e00-90d0-0872de45a50c"
      },
      "execution_count": null,
      "outputs": [
        {
          "output_type": "execute_result",
          "data": {
            "text/plain": [
              "['Daylight:', '260', 'F', 'Nighttime:', '-280', 'F']"
            ]
          },
          "metadata": {},
          "execution_count": 8
        }
      ]
    },
    {
      "cell_type": "code",
      "source": [
        "\"Moon\" in \"This text will describe facts about the Moon\"\n",
        "\"Moon\" in \"This text will describe facts and challenges with space travel\""
      ],
      "metadata": {
        "colab": {
          "base_uri": "https://localhost:8080/"
        },
        "id": "xC0Shf_1UieO",
        "outputId": "eadea625-8bbc-4539-d16b-db4a7f82deda"
      },
      "execution_count": null,
      "outputs": [
        {
          "output_type": "execute_result",
          "data": {
            "text/plain": [
              "False"
            ]
          },
          "metadata": {},
          "execution_count": 15
        }
      ]
    },
    {
      "cell_type": "code",
      "source": [
        "temperatures = \"\"\"Saturn has a daytime temperature of -170 degrees Celsius,\n",
        " while Mars has -28 Celsius.\"\"\"\n",
        "temperatures.find(\"Mars\")\n",
        "\"The Moon And The Earth\".lower()\n",
        "temperatures = \"Mars Average Temperature: -60 C\"\n",
        "parts = temperatures.split(':')\n",
        "parts [-1]"
      ],
      "metadata": {
        "colab": {
          "base_uri": "https://localhost:8080/",
          "height": 36
        },
        "id": "HP7EhfsUWTyn",
        "outputId": "5f627272-1733-43ec-d3c7-b9652545c02e"
      },
      "execution_count": null,
      "outputs": [
        {
          "output_type": "execute_result",
          "data": {
            "text/plain": [
              "' -60 C'"
            ],
            "application/vnd.google.colaboratory.intrinsic+json": {
              "type": "string"
            }
          },
          "metadata": {},
          "execution_count": 27
        }
      ]
    },
    {
      "cell_type": "code",
      "source": [
        ">>> mars_temperature = \"The highest temperature on Mars is about 30 C\"\n",
        ">>> for item in mars_temperature.split():\n",
        "...     if item.isnumeric():\n",
        "...         print(item)"
      ],
      "metadata": {
        "colab": {
          "base_uri": "https://localhost:8080/"
        },
        "id": "A1vQYMVCX0Ab",
        "outputId": "a940d796-4a43-450e-ffaa-f514d04927cf"
      },
      "execution_count": null,
      "outputs": [
        {
          "output_type": "stream",
          "name": "stdout",
          "text": [
            "30\n"
          ]
        }
      ]
    },
    {
      "cell_type": "code",
      "source": [
        ">>> moon_facts = [\"The Moon is drifting away from the Earth.\", \"On average, the Moon is moving about 4cm every year\"]\n",
        ">>> '\\n'.join(moon_facts)"
      ],
      "metadata": {
        "colab": {
          "base_uri": "https://localhost:8080/",
          "height": 36
        },
        "id": "LSeRqNL5YqtU",
        "outputId": "cf9f6047-0602-46dd-ad18-39ec86dcfc1b"
      },
      "execution_count": null,
      "outputs": [
        {
          "output_type": "execute_result",
          "data": {
            "text/plain": [
              "'The Moon is drifting away from the Earth.\\nOn average, the Moon is moving about 4cm every year'"
            ],
            "application/vnd.google.colaboratory.intrinsic+json": {
              "type": "string"
            }
          },
          "metadata": {},
          "execution_count": 29
        }
      ]
    },
    {
      "cell_type": "code",
      "source": [
        "mass_percentage = \"1/7\"\n",
        "print(\"On the Moon, you would weigh about %s of your weight on Earth\" % mass_percentage)"
      ],
      "metadata": {
        "colab": {
          "base_uri": "https://localhost:8080/"
        },
        "id": "7c_s8aMqfHWN",
        "outputId": "859443e6-ee9e-4de0-e303-0b1c2090d361"
      },
      "execution_count": null,
      "outputs": [
        {
          "output_type": "stream",
          "name": "stdout",
          "text": [
            "On the Moon, you would weigh about 1/7 of your weight on Earth\n"
          ]
        }
      ]
    },
    {
      "cell_type": "code",
      "source": [
        ">>> print(\"\"\"Both sides of the %s get the same amount of sunlight,\n",
        "... but only one side is seen from %s because\n",
        "... the %s rotates around its own axis when it orbits %s.\"\"\" % (\"Moon\", \"Earth\", \"Moon\", \"Earth\"))"
      ],
      "metadata": {
        "colab": {
          "base_uri": "https://localhost:8080/"
        },
        "id": "vrMO4B1afRKI",
        "outputId": "e7c520dd-3071-42e5-fa72-ca0d0c2118d4"
      },
      "execution_count": null,
      "outputs": [
        {
          "output_type": "stream",
          "name": "stdout",
          "text": [
            "Both sides of the Moon get the same amount of sunlight,\n",
            "but only one side is seen from Earth because\n",
            "the Moon rotates around its own axis when it orbits Earth.\n"
          ]
        }
      ]
    },
    {
      "cell_type": "code",
      "source": [
        ">>> mass_percentage = \"1/6\"\n",
        ">>> print(\"On the Moon, you would weigh about {} of your weight on Earth\".format(mass_percentage))"
      ],
      "metadata": {
        "id": "1GjrW6JMfqr0",
        "colab": {
          "base_uri": "https://localhost:8080/"
        },
        "outputId": "c51da8ef-6b3e-47d9-f709-f113c3bd3e72"
      },
      "execution_count": null,
      "outputs": [
        {
          "output_type": "stream",
          "name": "stdout",
          "text": [
            "On the Moon, you would weigh about 1/6 of your weight on Earth\n"
          ]
        }
      ]
    },
    {
      "cell_type": "code",
      "source": [
        ">>> print(\"\"\"You are lighter on the {moon}, because on the {moon} \n",
        "... you would weigh about {mass} of your weight on Earth\"\"\".format(moon=\"Moon\", mass=mass_percentage))"
      ],
      "metadata": {
        "colab": {
          "base_uri": "https://localhost:8080/"
        },
        "id": "7-e1gpojI4pw",
        "outputId": "c90ed186-ba37-4d34-aff9-71fdc70ca6e1"
      },
      "execution_count": null,
      "outputs": [
        {
          "output_type": "stream",
          "name": "stdout",
          "text": [
            "You are lighter on the Moon, because on the Moon \n",
            "you would weigh about 1/6 of your weight on Earth\n"
          ]
        }
      ]
    },
    {
      "cell_type": "code",
      "source": [
        ">>> print(f\"On the Moon, you would weigh about {round(100/6, 1)}% of your weight on Earth\")"
      ],
      "metadata": {
        "colab": {
          "base_uri": "https://localhost:8080/"
        },
        "id": "edzV2AguJ4Hf",
        "outputId": "0db23fde-78ac-47be-c440-08df9cf69c76"
      },
      "execution_count": null,
      "outputs": [
        {
          "output_type": "stream",
          "name": "stdout",
          "text": [
            "On the Moon, you would weigh about 16.7% of your weight on Earth\n"
          ]
        }
      ]
    },
    {
      "cell_type": "code",
      "source": [
        "name = 'Ganymede'\n",
        "planet = 'Mars'\n",
        "gravity = 1.43\n",
        "template = \"\"\"Gravity Facts about {name}\n",
        "--------------------------\n",
        "Planet Name: {planet}\n",
        "Gravity on {name}: {gravity} m/s2\"\"\"\n",
        "print(template.format(name=name, planet=planet, gravity=gravity))"
      ],
      "metadata": {
        "colab": {
          "base_uri": "https://localhost:8080/"
        },
        "id": "LLHyZ26bK99-",
        "outputId": "22503932-e2d8-461b-bcf8-a6b85e6f6d26"
      },
      "execution_count": null,
      "outputs": [
        {
          "output_type": "stream",
          "name": "stdout",
          "text": [
            "Gravity Facts about Ganymede\n",
            "--------------------------\n",
            "Planet Name: Mars\n",
            "Gravity on Ganymede: 1.43 m/s2\n"
          ]
        }
      ]
    },
    {
      "cell_type": "code",
      "source": [],
      "metadata": {
        "id": "T7AO1TyRCQuE"
      },
      "execution_count": null,
      "outputs": []
    }
  ]
}